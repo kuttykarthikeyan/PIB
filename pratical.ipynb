{
 "cells": [
  {
   "cell_type": "code",
   "execution_count": 2,
   "metadata": {},
   "outputs": [],
   "source": [
    "import pandas as pd\n",
    "data_frame = pd.read_csv(r\"D:\\PIB\\last_final_data_new.csv\")\n",
    "data_frame = data_frame.loc[data_frame[\"main_text\"] != \"none\"]"
   ]
  },
  {
   "cell_type": "code",
   "execution_count": 6,
   "metadata": {},
   "outputs": [],
   "source": [
    "data_frame.fillna(\"none\",inplace=True)"
   ]
  },
  {
   "cell_type": "code",
   "execution_count": 8,
   "metadata": {},
   "outputs": [],
   "source": [
    "data_frame.to_csv(\"last_final_data_new.csv\",index=False)"
   ]
  },
  {
   "cell_type": "code",
   "execution_count": 9,
   "metadata": {},
   "outputs": [],
   "source": [
    "d = data_frame = pd.read_csv(r\"D:\\PIB\\last_final_data_new.csv\")"
   ]
  },
  {
   "cell_type": "code",
   "execution_count": 11,
   "metadata": {},
   "outputs": [
    {
     "data": {
      "text/plain": [
       "title                        0\n",
       "description                  0\n",
       "published_date               0\n",
       "url                          0\n",
       "publisher                    0\n",
       "image                        0\n",
       "main_text                    0\n",
       "summary_article              0\n",
       "positive_sentence            0\n",
       "neutral_sentence             0\n",
       "negative_sentence            0\n",
       "published_time_ago           0\n",
       "state                        0\n",
       "department                   0\n",
       "website_data_clustering      0\n",
       "youtube_data_clustering      0\n",
       "POSITIVE                     0\n",
       "NEUTRAL                      0\n",
       "NEGATIVE                     0\n",
       "SENTIMENT_ANALYSIS_RESULT    0\n",
       "dtype: int64"
      ]
     },
     "execution_count": 11,
     "metadata": {},
     "output_type": "execute_result"
    }
   ],
   "source": [
    "d.isnull().sum()"
   ]
  },
  {
   "cell_type": "code",
   "execution_count": 12,
   "metadata": {},
   "outputs": [
    {
     "data": {
      "text/plain": [
       "Index(['title', 'description', 'published_date', 'url', 'publisher', 'image',\n",
       "       'main_text', 'summary_article', 'positive_sentence', 'neutral_sentence',\n",
       "       'negative_sentence', 'published_time_ago', 'state', 'department',\n",
       "       'website_data_clustering', 'youtube_data_clustering', 'POSITIVE',\n",
       "       'NEUTRAL', 'NEGATIVE', 'SENTIMENT_ANALYSIS_RESULT'],\n",
       "      dtype='object')"
      ]
     },
     "execution_count": 12,
     "metadata": {},
     "output_type": "execute_result"
    }
   ],
   "source": [
    "d.columns"
   ]
  }
 ],
 "metadata": {
  "kernelspec": {
   "display_name": "venv",
   "language": "python",
   "name": "python3"
  },
  "language_info": {
   "codemirror_mode": {
    "name": "ipython",
    "version": 3
   },
   "file_extension": ".py",
   "mimetype": "text/x-python",
   "name": "python",
   "nbconvert_exporter": "python",
   "pygments_lexer": "ipython3",
   "version": "3.10.4"
  }
 },
 "nbformat": 4,
 "nbformat_minor": 2
}
